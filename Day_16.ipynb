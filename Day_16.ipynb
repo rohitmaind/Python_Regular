{
 "cells": [
  {
   "cell_type": "markdown",
   "id": "3a5f9a8a-39b4-45b0-a1c1-26178bce724f",
   "metadata": {},
   "source": [
    "## Max Heap"
   ]
  },
  {
   "cell_type": "code",
   "execution_count": 1,
   "id": "322a76ea-2dc1-491e-9449-6897d3353663",
   "metadata": {},
   "outputs": [
    {
     "name": "stdout",
     "output_type": "stream",
     "text": [
      "Max Heap: [50, 30, 40]\n",
      "Max Element: 50\n",
      "Max Heap: [40, 30]\n"
     ]
    }
   ],
   "source": [
    "import heapq\n",
    "\n",
    "class MaxHeap:\n",
    "    def __init__(self):\n",
    "        self.heap = []\n",
    "\n",
    "    def insert(self, data):\n",
    "        heapq.heappush(self.heap, -data)\n",
    "\n",
    "    def extract_max(self):\n",
    "        return -heapq.heappop(self.heap)\n",
    "\n",
    "    def display(self):\n",
    "        print(\"Max Heap:\", [-x for x in self.heap])\n",
    "\n",
    "# Driver code\n",
    "max_heap = MaxHeap()\n",
    "max_heap.insert(50)\n",
    "max_heap.insert(30)\n",
    "max_heap.insert(40)\n",
    "max_heap.display()\n",
    "print(\"Max Element:\", max_heap.extract_max())\n",
    "max_heap.display()\n"
   ]
  },
  {
   "cell_type": "code",
   "execution_count": null,
   "id": "d43ee6e6-f1ab-4be3-9eec-937bac651c0c",
   "metadata": {},
   "outputs": [],
   "source": []
  }
 ],
 "metadata": {
  "kernelspec": {
   "display_name": "Python 3 (ipykernel)",
   "language": "python",
   "name": "python3"
  },
  "language_info": {
   "codemirror_mode": {
    "name": "ipython",
    "version": 3
   },
   "file_extension": ".py",
   "mimetype": "text/x-python",
   "name": "python",
   "nbconvert_exporter": "python",
   "pygments_lexer": "ipython3",
   "version": "3.12.4"
  }
 },
 "nbformat": 4,
 "nbformat_minor": 5
}
