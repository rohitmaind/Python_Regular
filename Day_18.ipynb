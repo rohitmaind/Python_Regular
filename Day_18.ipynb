{
 "cells": [
  {
   "cell_type": "markdown",
   "id": "b25deca3-59c5-4e5a-972b-500d25918e52",
   "metadata": {},
   "source": [
    "## Trie (Prefix Tree)"
   ]
  },
  {
   "cell_type": "code",
   "execution_count": 1,
   "id": "250552cc-9b31-4206-8458-4988eff999f3",
   "metadata": {},
   "outputs": [
    {
     "name": "stdout",
     "output_type": "stream",
     "text": [
      "True\n",
      "False\n"
     ]
    }
   ],
   "source": [
    "class TrieNode:\n",
    "    def __init__(self):\n",
    "        self.children = {}\n",
    "        self.is_end_of_word = False\n",
    "\n",
    "class Trie:\n",
    "    def __init__(self):\n",
    "        self.root = TrieNode()\n",
    "\n",
    "    def insert(self, word):\n",
    "        current = self.root\n",
    "        for char in word:\n",
    "            if char not in current.children:\n",
    "                current.children[char] = TrieNode()\n",
    "            current = current.children[char]\n",
    "        current.is_end_of_word = True\n",
    "\n",
    "    def search(self, word):\n",
    "        current = self.root\n",
    "        for char in word:\n",
    "            if char not in current.children:\n",
    "                return False\n",
    "            current = current.children[char]\n",
    "        return current.is_end_of_word\n",
    "\n",
    "# Driver code\n",
    "trie = Trie()\n",
    "trie.insert(\"hello\")\n",
    "trie.insert(\"world\")\n",
    "print(trie.search(\"hello\"))  # True\n",
    "print(trie.search(\"hell\"))   # False\n"
   ]
  },
  {
   "cell_type": "code",
   "execution_count": null,
   "id": "2701fe85-9253-4973-938c-f69389b95109",
   "metadata": {},
   "outputs": [],
   "source": []
  }
 ],
 "metadata": {
  "kernelspec": {
   "display_name": "Python 3 (ipykernel)",
   "language": "python",
   "name": "python3"
  },
  "language_info": {
   "codemirror_mode": {
    "name": "ipython",
    "version": 3
   },
   "file_extension": ".py",
   "mimetype": "text/x-python",
   "name": "python",
   "nbconvert_exporter": "python",
   "pygments_lexer": "ipython3",
   "version": "3.12.4"
  }
 },
 "nbformat": 4,
 "nbformat_minor": 5
}
