{
 "cells": [
  {
   "cell_type": "markdown",
   "id": "e5a35828-7bb5-49bc-be19-487a545e4dcf",
   "metadata": {},
   "source": [
    "##  Fibonacci Sequence\n"
   ]
  },
  {
   "cell_type": "markdown",
   "id": "6a99485c-bc4b-4643-b07f-64dce7a261e0",
   "metadata": {},
   "source": [
    "### Problem: Write a function to generate the first n numbers of the Fibonacci sequence."
   ]
  },
  {
   "cell_type": "code",
   "execution_count": 3,
   "id": "f689c0a0-234e-4486-bb0f-2cb5e0335a3f",
   "metadata": {},
   "outputs": [
    {
     "name": "stdout",
     "output_type": "stream",
     "text": [
      "[0, 1, 1, 2, 3, 5, 8, 13, 21, 34]\n"
     ]
    }
   ],
   "source": [
    "def fibonacci(n):\n",
    "    fib_sequence = [0, 1]\n",
    "    while len(fib_sequence) < n:\n",
    "        fib_sequence.append(fib_sequence[-1] + fib_sequence[-2])\n",
    "    return fib_sequence[:n]\n",
    "\n",
    "# Example usage:\n",
    "print(fibonacci(10))  # Output: [0, 1, 1, 2, 3, 5, 8, 13, 21, 34]\n"
   ]
  },
  {
   "cell_type": "code",
   "execution_count": null,
   "id": "f5c8be29-9e17-4b6c-9802-5a849e232187",
   "metadata": {},
   "outputs": [],
   "source": []
  }
 ],
 "metadata": {
  "kernelspec": {
   "display_name": "Python 3 (ipykernel)",
   "language": "python",
   "name": "python3"
  },
  "language_info": {
   "codemirror_mode": {
    "name": "ipython",
    "version": 3
   },
   "file_extension": ".py",
   "mimetype": "text/x-python",
   "name": "python",
   "nbconvert_exporter": "python",
   "pygments_lexer": "ipython3",
   "version": "3.12.4"
  }
 },
 "nbformat": 4,
 "nbformat_minor": 5
}
