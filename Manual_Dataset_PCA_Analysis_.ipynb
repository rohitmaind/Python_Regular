{
  "nbformat": 4,
  "nbformat_minor": 0,
  "metadata": {
    "colab": {
      "provenance": []
    },
    "kernelspec": {
      "name": "python3",
      "display_name": "Python 3"
    },
    "language_info": {
      "name": "python"
    }
  },
  "cells": [
    {
      "cell_type": "markdown",
      "source": [
        "## Problem Statement : Manual Dataset PCA Analysis."
      ],
      "metadata": {
        "id": "Q1Y5LXIGLJie"
      }
    },
    {
      "cell_type": "code",
      "source": [
        "# Import necessary libraries\n",
        "import numpy as np\n",
        "import pandas as pd\n",
        "from sklearn.decomposition import PCA\n",
        "from sklearn.preprocessing import StandardScaler\n",
        "import matplotlib.pyplot as plt"
      ],
      "metadata": {
        "id": "mrfQP9CsLbF0"
      },
      "execution_count": 2,
      "outputs": []
    },
    {
      "cell_type": "code",
      "source": [
        "# Create a manual dataset\n",
        "data = {\n",
        "    'Feature_1': [2.5, 0.5, 2.2, 1.9, 3.1, 2.3, 2.0, 1.0, 1.5, 1.1],\n",
        "    'Feature_2': [2.4, 0.7, 2.9, 2.2, 3.0, 2.7, 1.6, 1.1, 1.6, 0.9],\n",
        "    'Feature_3': [3.5, 2.7, 4.0, 3.8, 4.2, 3.9, 3.5, 2.1, 2.4, 2.3],\n",
        "    'Feature_4': [1.5, 2.0, 1.3, 1.8, 2.5, 2.1, 1.9, 1.4, 1.7, 1.6]\n",
        "}"
      ],
      "metadata": {
        "id": "n9xY-CvpLf9c"
      },
      "execution_count": 3,
      "outputs": []
    },
    {
      "cell_type": "code",
      "source": [
        "# Convert to DataFrame\n",
        "df = pd.DataFrame(data)\n",
        "print(\"Original Dataset:\")\n",
        "print(df)"
      ],
      "metadata": {
        "colab": {
          "base_uri": "https://localhost:8080/"
        },
        "id": "ENr1IT2sLmLv",
        "outputId": "746ab13e-9a54-4143-f178-3fd578b5c164"
      },
      "execution_count": 4,
      "outputs": [
        {
          "output_type": "stream",
          "name": "stdout",
          "text": [
            "Original Dataset:\n",
            "   Feature_1  Feature_2  Feature_3  Feature_4\n",
            "0        2.5        2.4        3.5        1.5\n",
            "1        0.5        0.7        2.7        2.0\n",
            "2        2.2        2.9        4.0        1.3\n",
            "3        1.9        2.2        3.8        1.8\n",
            "4        3.1        3.0        4.2        2.5\n",
            "5        2.3        2.7        3.9        2.1\n",
            "6        2.0        1.6        3.5        1.9\n",
            "7        1.0        1.1        2.1        1.4\n",
            "8        1.5        1.6        2.4        1.7\n",
            "9        1.1        0.9        2.3        1.6\n"
          ]
        }
      ]
    },
    {
      "cell_type": "code",
      "source": [
        "# Standardize the data\n",
        "scaler = StandardScaler()\n",
        "X_std = scaler.fit_transform(df)"
      ],
      "metadata": {
        "id": "ROiU_fEgLo5b"
      },
      "execution_count": 6,
      "outputs": []
    },
    {
      "cell_type": "code",
      "source": [
        "# Perform PCA\n",
        "pca = PCA(n_components=2)  # Reduce to 2 dimensions\n",
        "X_pca = pca.fit_transform(X_std)"
      ],
      "metadata": {
        "id": "8KDjz4mnLqQr"
      },
      "execution_count": 7,
      "outputs": []
    },
    {
      "cell_type": "code",
      "source": [
        "# Explained variance\n",
        "explained_variance = pca.explained_variance_ratio_\n",
        "print(\"\\nExplained variance by components:\", explained_variance)"
      ],
      "metadata": {
        "colab": {
          "base_uri": "https://localhost:8080/"
        },
        "id": "mvq35o8HLrkz",
        "outputId": "b787eaeb-896f-4eea-b572-71f731af1c4b"
      },
      "execution_count": 8,
      "outputs": [
        {
          "output_type": "stream",
          "name": "stdout",
          "text": [
            "\n",
            "Explained variance by components: [0.73594886 0.2130857 ]\n"
          ]
        }
      ]
    },
    {
      "cell_type": "code",
      "source": [
        "# Create a DataFrame for the PCA results\n",
        "pca_df = pd.DataFrame(data=X_pca, columns=['Principal Component 1', 'Principal Component 2'])"
      ],
      "metadata": {
        "id": "NC9D7v6oLtBL"
      },
      "execution_count": 10,
      "outputs": []
    },
    {
      "cell_type": "code",
      "source": [
        "# Show the PCA result\n",
        "print(\"\\nPCA Result:\")\n",
        "print(pca_df)"
      ],
      "metadata": {
        "colab": {
          "base_uri": "https://localhost:8080/"
        },
        "id": "KwlOrvWvLvNb",
        "outputId": "1f7052d1-9df4-4641-c54a-9d8ceda4cc32"
      },
      "execution_count": 11,
      "outputs": [
        {
          "output_type": "stream",
          "name": "stdout",
          "text": [
            "\n",
            "PCA Result:\n",
            "   Principal Component 1  Principal Component 2\n",
            "0               0.811160               1.100746\n",
            "1              -2.025301              -1.337540\n",
            "2               1.135977               1.806992\n",
            "3               0.698527               0.104053\n",
            "4               3.020460              -1.270224\n",
            "5               1.663345              -0.454342\n",
            "6               0.221410              -0.389901\n",
            "7              -2.321720               0.519206\n",
            "8              -1.133906              -0.006974\n",
            "9              -2.069953              -0.072018\n"
          ]
        }
      ]
    },
    {
      "cell_type": "code",
      "source": [
        "# Plotting the results\n",
        "plt.figure(figsize=(8, 6))\n",
        "plt.scatter(pca_df['Principal Component 1'], pca_df['Principal Component 2'])\n",
        "\n",
        "plt.xlabel('Principal Component 1')\n",
        "plt.ylabel('Principal Component 2')\n",
        "plt.title('PCA of Manual Dataset')\n",
        "plt.show()\n",
        "\n"
      ],
      "metadata": {
        "colab": {
          "base_uri": "https://localhost:8080/",
          "height": 564
        },
        "id": "J3i3D5oPLQRn",
        "outputId": "c0683455-890d-4500-ca4a-ba468f76926c"
      },
      "execution_count": 12,
      "outputs": [
        {
          "output_type": "display_data",
          "data": {
            "text/plain": [
              "<Figure size 800x600 with 1 Axes>"
            ],
            "image/png": "[encoded data removed]"
          },
          "metadata": {}
        }
      ]
    }
  ]
}