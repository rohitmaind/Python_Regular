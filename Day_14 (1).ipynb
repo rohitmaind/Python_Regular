{
 "cells": [
  {
   "cell_type": "markdown",
   "id": "afb568cf-636f-4a0d-8b58-aac948d5db56",
   "metadata": {},
   "source": [
    "##  Depth-First Search (DFS) in Graph"
   ]
  },
  {
   "cell_type": "code",
   "execution_count": 1,
   "id": "dd9e0347-31c2-428f-9090-c992f790aeea",
   "metadata": {},
   "outputs": [
    {
     "name": "stdout",
     "output_type": "stream",
     "text": [
      "0 1 2 3 4 "
     ]
    }
   ],
   "source": [
    "class Graph:\n",
    "    def __init__(self, vertices):\n",
    "        self.vertices = vertices\n",
    "        self.adj_list = {i: [] for i in range(vertices)}\n",
    "\n",
    "    def add_edge(self, u, v):\n",
    "        self.adj_list[u].append(v)\n",
    "        self.adj_list[v].append(u)\n",
    "\n",
    "    def dfs(self, start, visited=None):\n",
    "        if visited is None:\n",
    "            visited = [False] * self.vertices\n",
    "        visited[start] = True\n",
    "        print(start, end=\" \")\n",
    "\n",
    "        for neighbor in self.adj_list[start]:\n",
    "            if not visited[neighbor]:\n",
    "                self.dfs(neighbor, visited)\n",
    "\n",
    "# Driver code\n",
    "graph = Graph(5)\n",
    "graph.add_edge(0, 1)\n",
    "graph.add_edge(0, 4)\n",
    "graph.add_edge(1, 2)\n",
    "graph.add_edge(1, 3)\n",
    "graph.dfs(0)\n"
   ]
  },
  {
   "cell_type": "code",
   "execution_count": null,
   "id": "aee04ccc-bf76-4003-84a1-17423f816a5f",
   "metadata": {},
   "outputs": [],
   "source": []
  }
 ],
 "metadata": {
  "kernelspec": {
   "display_name": "Python 3 (ipykernel)",
   "language": "python",
   "name": "python3"
  },
  "language_info": {
   "codemirror_mode": {
    "name": "ipython",
    "version": 3
   },
   "file_extension": ".py",
   "mimetype": "text/x-python",
   "name": "python",
   "nbconvert_exporter": "python",
   "pygments_lexer": "ipython3",
   "version": "3.12.4"
  }
 },
 "nbformat": 4,
 "nbformat_minor": 5
}
