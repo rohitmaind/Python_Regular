{
  "nbformat": 4,
  "nbformat_minor": 0,
  "metadata": {
    "colab": {
      "provenance": []
    },
    "kernelspec": {
      "name": "python3",
      "display_name": "Python 3"
    },
    "language_info": {
      "name": "python"
    }
  },
  "cells": [
    {
      "cell_type": "markdown",
      "source": [
        "## Support Vector Machine (SVM)"
      ],
      "metadata": {
        "id": "Ud3-ilCMdK2g"
      }
    },
    {
      "cell_type": "code",
      "execution_count": null,
      "metadata": {
        "id": "SKVIJreXdG1-"
      },
      "outputs": [],
      "source": [
        "# Import libraries\n",
        "import numpy as np\n",
        "import matplotlib.pyplot as plt\n",
        "from sklearn import svm\n",
        "\n",
        "# Manual dataset\n",
        "X = np.array([[1, 1], [2, 2], [3, 3], [6, 6], [7, 7], [8, 8]])\n",
        "y = np.array([0, 0, 0, 1, 1, 1])\n",
        "\n",
        "# Create and fit the model\n",
        "model = svm.SVC(kernel='linear')\n",
        "model.fit(X, y)\n",
        "\n",
        "# Plot the decision boundary\n",
        "plt.scatter(X[:, 0], X[:, 1], c=y)\n",
        "ax = plt.gca()\n",
        "xlim = ax.get_xlim()\n",
        "ylim = ax.get_ylim()\n",
        "xx = np.linspace(xlim[0], xlim[1], 30)\n",
        "yy = np.linspace(ylim[0], ylim[1], 30)\n",
        "YY, XX = np.meshgrid(yy, xx)\n",
        "xy = np.vstack([XX.ravel(), YY.ravel()]).T\n",
        "Z = model.decision_function(xy).reshape(XX.shape)\n",
        "ax.contour(XX, YY, Z, colors='k', levels=[0], alpha=0.5, linestyles=['-'])\n",
        "plt.title('Support Vector Machine')\n",
        "plt.show()\n"
      ]
    }
  ]
}