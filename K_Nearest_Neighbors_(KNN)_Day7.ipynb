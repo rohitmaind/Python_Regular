{
  "nbformat": 4,
  "nbformat_minor": 0,
  "metadata": {
    "colab": {
      "provenance": []
    },
    "kernelspec": {
      "name": "python3",
      "display_name": "Python 3"
    },
    "language_info": {
      "name": "python"
    }
  },
  "cells": [
    {
      "cell_type": "markdown",
      "source": [
        "## K-Nearest Neighbors (KNN)"
      ],
      "metadata": {
        "id": "WdaDAx_gcbkx"
      }
    },
    {
      "cell_type": "code",
      "execution_count": 1,
      "metadata": {
        "colab": {
          "base_uri": "https://localhost:8080/"
        },
        "id": "bL0KkjRGcbKr",
        "outputId": "aa550b2c-132a-4dcf-ea87-095822eb47a5"
      },
      "outputs": [
        {
          "output_type": "stream",
          "name": "stdout",
          "text": [
            "Prediction for point [5 5]: 0\n"
          ]
        }
      ],
      "source": [
        "# Import libraries\n",
        "import numpy as np\n",
        "from sklearn.neighbors import KNeighborsClassifier\n",
        "\n",
        "# Manual dataset\n",
        "X = np.array([[1, 2], [2, 3], [3, 3], [6, 7], [7, 8], [8, 9]])\n",
        "y = np.array([0, 0, 0, 1, 1, 1])\n",
        "\n",
        "# Create and fit the model\n",
        "model = KNeighborsClassifier(n_neighbors=3)\n",
        "model.fit(X, y)\n",
        "\n",
        "# Predict\n",
        "new_point = np.array([5, 5])\n",
        "prediction = model.predict([new_point])\n",
        "print(f'Prediction for point {new_point}: {prediction[0]}')\n"
      ]
    }
  ]
}