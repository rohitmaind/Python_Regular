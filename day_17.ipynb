{
 "cells": [
  {
   "cell_type": "markdown",
   "id": "469a575f-1a82-4676-a7c4-e56795fe155c",
   "metadata": {},
   "source": [
    "## Hash Table (Chaining)"
   ]
  },
  {
   "cell_type": "code",
   "execution_count": 1,
   "id": "5d021372-c4c9-48bd-b915-4a005f9cf2c9",
   "metadata": {},
   "outputs": [
    {
     "name": "stdout",
     "output_type": "stream",
     "text": [
      "Index 0: [(10, 'Data1'), (20, 'Data2')]\n",
      "Index 1: []\n",
      "Index 2: []\n",
      "Index 3: []\n",
      "Index 4: []\n",
      "Index 5: [(25, 'Data3')]\n",
      "Index 6: []\n",
      "Index 7: []\n",
      "Index 8: []\n",
      "Index 9: []\n"
     ]
    }
   ],
   "source": [
    "class HashTable:\n",
    "    def __init__(self):\n",
    "        self.size = 10\n",
    "        self.table = [[] for _ in range(self.size)]\n",
    "\n",
    "    def hash_function(self, key):\n",
    "        return key % self.size\n",
    "\n",
    "    def insert(self, key, value):\n",
    "        index = self.hash_function(key)\n",
    "        self.table[index].append((key, value))\n",
    "\n",
    "    def display(self):\n",
    "        for i, lst in enumerate(self.table):\n",
    "            print(f\"Index {i}: {lst}\")\n",
    "\n",
    "# Driver code\n",
    "ht = HashTable()\n",
    "ht.insert(10, \"Data1\")\n",
    "ht.insert(20, \"Data2\")\n",
    "ht.insert(25, \"Data3\")\n",
    "ht.display()\n"
   ]
  },
  {
   "cell_type": "code",
   "execution_count": null,
   "id": "a748f41d-2edb-47d8-8627-f98527633804",
   "metadata": {},
   "outputs": [],
   "source": []
  }
 ],
 "metadata": {
  "kernelspec": {
   "display_name": "Python 3 (ipykernel)",
   "language": "python",
   "name": "python3"
  },
  "language_info": {
   "codemirror_mode": {
    "name": "ipython",
    "version": 3
   },
   "file_extension": ".py",
   "mimetype": "text/x-python",
   "name": "python",
   "nbconvert_exporter": "python",
   "pygments_lexer": "ipython3",
   "version": "3.12.4"
  }
 },
 "nbformat": 4,
 "nbformat_minor": 5
}
