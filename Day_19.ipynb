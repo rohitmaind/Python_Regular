{
 "cells": [
  {
   "cell_type": "markdown",
   "id": "6c9d6764-15c0-4597-ac7a-f906d47b4413",
   "metadata": {},
   "source": [
    "##  Circular Queue using List"
   ]
  },
  {
   "cell_type": "code",
   "execution_count": 1,
   "id": "950214f5-bbd3-4946-a13f-27adc7f3b824",
   "metadata": {},
   "outputs": [
    {
     "name": "stdout",
     "output_type": "stream",
     "text": [
      "Circular Queue: 10 20 30 \n",
      "Circular Queue: 20 30 \n"
     ]
    }
   ],
   "source": [
    "class CircularQueue:\n",
    "    def __init__(self, size):\n",
    "        self.size = size\n",
    "        self.queue = [None] * size\n",
    "        self.front = self.rear = -1\n",
    "\n",
    "    def enqueue(self, data):\n",
    "        if (self.rear + 1) % self.size == self.front:\n",
    "            print(\"Queue is full!\")\n",
    "        elif self.front == -1:\n",
    "            self.front = self.rear = 0\n",
    "            self.queue[self.rear] = data\n",
    "        else:\n",
    "            self.rear = (self.rear + 1) % self.size\n",
    "            self.queue[self.rear] = data\n",
    "\n",
    "    def dequeue(self):\n",
    "        if self.front == -1:\n",
    "            print(\"Queue is empty!\")\n",
    "        elif self.front == self.rear:\n",
    "            item = self.queue[self.front]\n",
    "            self.front = self.rear = -1\n",
    "            return item\n",
    "        else:\n",
    "            item = self.queue[self.front]\n",
    "            self.front = (self.front + 1) % self.size\n",
    "            return item\n",
    "\n",
    "    def display(self):\n",
    "        if self.front == -1:\n",
    "            print(\"Queue is empty!\")\n",
    "        else:\n",
    "            print(\"Circular Queue:\", end=\" \")\n",
    "            i = self.front\n",
    "            while True:\n",
    "                print(self.queue[i], end=\" \")\n",
    "                if i == self.rear:\n",
    "                    break\n",
    "                i = (i + 1) % self.size\n",
    "            print()\n",
    "\n",
    "# Driver code\n",
    "cq = CircularQueue(5)\n",
    "cq.enqueue(10)\n",
    "cq.enqueue(20)\n",
    "cq.enqueue(30)\n",
    "cq.display()\n",
    "cq.dequeue()\n",
    "cq.display()\n"
   ]
  },
  {
   "cell_type": "code",
   "execution_count": null,
   "id": "6fa2f9b4-9c47-47ba-94f7-7c1c36f2b821",
   "metadata": {},
   "outputs": [],
   "source": []
  }
 ],
 "metadata": {
  "kernelspec": {
   "display_name": "Python 3 (ipykernel)",
   "language": "python",
   "name": "python3"
  },
  "language_info": {
   "codemirror_mode": {
    "name": "ipython",
    "version": 3
   },
   "file_extension": ".py",
   "mimetype": "text/x-python",
   "name": "python",
   "nbconvert_exporter": "python",
   "pygments_lexer": "ipython3",
   "version": "3.12.4"
  }
 },
 "nbformat": 4,
 "nbformat_minor": 5
}
